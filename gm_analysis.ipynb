{
 "cells": [
  {
   "cell_type": "code",
   "execution_count": 41,
   "metadata": {},
   "outputs": [],
   "source": [
    "import email\n",
    "import numpy as np\n",
    "import os\n",
    "\n",
    "def f(s):\n",
    "    return s.strip().lower()\n",
    "\n",
    "def string_helper(s):\n",
    "    start = 0\n",
    "    c = s[start]\n",
    "    while start < len(s):\n",
    "        c = s[start]\n",
    "        if c.lower() != c.upper():\n",
    "            break\n",
    "        else:\n",
    "            start += 1\n",
    "    end = len(s)-1\n",
    "    c = s[end]\n",
    "    while end > -1:\n",
    "        c = s[end]\n",
    "        if c.lower() != c.upper():\n",
    "            break\n",
    "        else:\n",
    "            end -= 1\n",
    "    return s[start:end+1]\n",
    "\n",
    "def get_actual(mail):\n",
    "    l1 = list(mail['To'].split(','))\n",
    "    l1 = list(map(f, l1))\n",
    "    if mail['Cc'] != None:\n",
    "        l2 = list(map(f, list(mail['Cc'].split(','))))\n",
    "        l1+=l2\n",
    "    l1 = list(map(string_helper, l1))\n",
    "    return l1\n",
    "\n",
    "def email_id_parser(id):\n",
    "    id = id.strip()\n",
    "    l = list(id.split(' '))\n",
    "    index = -1\n",
    "    for i in range(len(l)):\n",
    "        if '@' in l[i]:\n",
    "            index = i\n",
    "            break\n",
    "    if index == 0:\n",
    "        ans = l[0].split('@')[0]\n",
    "    elif index > 0:\n",
    "        ans = ''\n",
    "        for i in range(index):\n",
    "            ans += l[i] + ' '\n",
    "    else:\n",
    "        return None\n",
    "    return ans.strip().lower()\n",
    "\n",
    "def parse_gm_list(file_text):\n",
    "    ids = []\n",
    "    for id in file_text:\n",
    "        id = email_id_parser(id)\n",
    "        ids.append(id)\n",
    "    return ids\n"
   ]
  },
  {
   "cell_type": "code",
   "execution_count": 31,
   "metadata": {},
   "outputs": [
    {
     "data": {
      "text/plain": [
       "'linux-kernel'"
      ]
     },
     "execution_count": 31,
     "metadata": {},
     "output_type": "execute_result"
    }
   ],
   "source": []
  },
  {
   "cell_type": "code",
   "execution_count": 57,
   "metadata": {
    "scrolled": true
   },
   "outputs": [
    {
     "data": {
      "image/png": "[encoded data removed]",
      "text/plain": [
       "<Figure size 432x288 with 1 Axes>"
      ]
     },
     "metadata": {
      "needs_background": "light"
     },
     "output_type": "display_data"
    }
   ],
   "source": [
    "actual_sents = []\n",
    "percents = []\n",
    "this_file_path = os.path.abspath('.')\n",
    "\n",
    "for i in range(1, 11):\n",
    "    text = open(f'{this_file_path}/patches/patch{i}.patch', 'r').read()\n",
    "    mail = email.message_from_string(text)\n",
    "    actual_sent = get_actual(mail)\n",
    "    s = set(actual_sent)\n",
    "    gm_list = parse_gm_list(open(f'{this_file_path}/gm-ans/patch{i}.patch.ans').readlines())\n",
    "    s = s.intersection(set(gm_list))\n",
    "    percents.append(len(s)/len(gm_list))\n",
    "    actual_sents += actual_sent\n",
    "\n",
    "import seaborn as sns\n",
    "from matplotlib import pyplot as plt\n",
    "\n",
    "ax = sns.distplot(percents)\n",
    "plt.show()"
   ]
  },
  {
   "cell_type": "code",
   "execution_count": null,
   "metadata": {},
   "outputs": [],
   "source": []
  },
  {
   "cell_type": "code",
   "execution_count": 58,
   "metadata": {},
   "outputs": [
    {
     "name": "stdout",
     "output_type": "stream",
     "text": [
      "[('linux-kernel', 8), ('linux-arm-kernel', 3), ('rob herring', 2), ('devicetree', 2), ('linux-usb', 2), ('alexander a. klimov', 2), ('linux-sunxi', 1), ('ondrej jirman', 1), ('vasily khoruzhick', 1), ('yangtao li', 1), ('zhang rui', 1), ('daniel lezcano', 1), ('amit kucheria', 1), ('maxime ripard', 1), ('chen-yu tsai', 1), ('open list:allwinner thermal driver', 1), ('moderated list:arm/allwinner sunxi soc support', 1), ('open list', 1), ('geert uytterhoeven', 1), ('magnus damm', 1), ('michael turquette', 1), ('stephen boyd', 1), ('linus walleij', 1), ('philipp zabel', 1), ('linux-renesas-soc', 1), ('linux-clk', 1), ('linux-gpio', 1), ('prabhakar', 1), ('lad prabhakar', 1), ('joro', 1), ('hch', 1), ('iommu', 1), ('jonathan.lemon', 1), ('linux-pci', 1), ('baolu.lu', 1), ('dwmw', 1), ('patrick delaunay', 1), ('alexandre torgue', 1), ('manivannan sadhasivam', 1), ('maxime coquelin', 1), ('linux-stm', 1), ('linux-spi', 1), ('marek szyprowski', 1), ('linux-samsung-soc', 1), ('mark brown', 1), ('zhang qiang', 1), ('petr mladek', 1), ('bartlomiej zolnierkiewicz', 1), ('greg kroah-hartman', 1), ('valentina manea', 1), ('shuah khan', 1), ('gustavo a. r. silva', 1), ('stern', 1), ('gregkh', 1), ('usb-storage', 1), ('andrew morton', 1), (\"theodore ts'o\", 1), ('eric biggers', 1), ('linux next mailing list', 1), ('linux kernel mailing list', 1), ('satya tangirala', 1), ('waiman long', 1), ('mripard', 1), ('wens', 1), ('kishon', 1), ('vkoul', 1), ('rikard falkeborn', 1), ('tony.luck', 1), ('qiuxu.zhuo', 1), ('bp', 1), ('mchehab', 1), ('james.morse', 1), ('rrichter', 1), ('linux-edac', 1)]\n"
     ]
    }
   ],
   "source": [
    "cnt = dict()\n",
    "\n",
    "for i in actual_sents:\n",
    "    if i in cnt:\n",
    "        cnt[i] += 1\n",
    "    else:\n",
    "        cnt[i] = 1\n",
    "\n",
    "print(sorted(cnt.items(), key = lambda kv: kv[1], reverse=True))"
   ]
  },
  {
   "cell_type": "code",
   "execution_count": 56,
   "metadata": {},
   "outputs": [
    {
     "ename": "NameError",
     "evalue": "name '__file__' is not defined",
     "output_type": "error",
     "traceback": [
      "\u001b[0;31m---------------------------------------------------------------------------\u001b[0m",
      "\u001b[0;31mNameError\u001b[0m                                 Traceback (most recent call last)",
      "\u001b[0;32m<ipython-input-56-358d5687b810>\u001b[0m in \u001b[0;36m<module>\u001b[0;34m\u001b[0m\n\u001b[0;32m----> 1\u001b[0;31m \u001b[0m__file__\u001b[0m\u001b[0;34m\u001b[0m\u001b[0;34m\u001b[0m\u001b[0m\n\u001b[0m",
      "\u001b[0;31mNameError\u001b[0m: name '__file__' is not defined"
     ]
    }
   ],
   "source": []
  }
 ],
 "metadata": {
  "kernelspec": {
   "display_name": "Python 3.8.2 64-bit",
   "language": "python",
   "name": "python38264bita3abdaa641384ce5a5896c3d70424d4f"
  },
  "language_info": {
   "codemirror_mode": {
    "name": "ipython",
    "version": 3
   },
   "file_extension": ".py",
   "mimetype": "text/x-python",
   "name": "python",
   "nbconvert_exporter": "python",
   "pygments_lexer": "ipython3",
   "version": "3.8.2"
  }
 },
 "nbformat": 4,
 "nbformat_minor": 4
}

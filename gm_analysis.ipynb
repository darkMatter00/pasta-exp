{
 "cells": [
  {
   "cell_type": "code",
   "execution_count": 85,
   "metadata": {},
   "outputs": [],
   "source": [
    "patches = [\n",
    "    'https://lore.kernel.org/lkml/20200710084841.1933254-1-yanziily@gmail.com/raw',\n",
    "    'https://lore.kernel.org/lkml/20200710193003.2lt3i5ocy5kk3b3p@pali/raw',\n",
    "    'https://lore.kernel.org/lkml/20200619224334.GA7857@embeddedor/raw',\n",
    "    'https://lore.kernel.org/lkml/f4297017-1d27-741d-3abc-36b6918801f6@linuxfoundation.org/raw',\n",
    "    'https://lore.kernel.org/lkml/20200710092035.28919-1-ethercflow@gmail.com/raw',\n",
    "    'https://lore.kernel.org/lkml/20200708202650.GA3866@embeddedor/raw',\n",
    "    'https://lore.kernel.org/lkml/20200710183350.GA8376@embeddedor/raw',\n",
    "    'https://lore.kernel.org/lkml/20200707212954.26487-1-oshpigelman@habana.ai/raw',\n",
    "    'https://lore.kernel.org/lkml/20200710051043.899291-1-kamalesh@linux.vnet.ibm.com/raw',\n",
    "    'https://lore.kernel.org/lkml/20200710152559.1645827-1-vkuznets@redhat.com/raw'\n",
    "]"
   ]
  },
  {
   "cell_type": "code",
   "execution_count": 86,
   "metadata": {},
   "outputs": [],
   "source": [
    "from pasta_utils import *"
   ]
  },
  {
   "cell_type": "code",
   "execution_count": 80,
   "metadata": {},
   "outputs": [
    {
     "name": "stdout",
     "output_type": "stream",
     "text": [
      "['sre@kernel.org', 'linux-pm@vger.kernel.org', 'linux-kernel@vger.kernel.org', 'gregkh@linuxfoundation.org', 'jiangfei1@xiaomi.com', 'huangqiwu@xiaomi.com']\n",
      "['helgaas@kernel.org', 'lorenzo.pieralisi@arm.com', 'thomas.petazzoni@bootlin.com', 'amurray@thegoodpenguin.co.uk', 'bhelgaas@google.com', 'marek.behun@nic.cz', 'repk@triplefau.lt', 'tmn505@gmail.com', 'contact@xogium.me', 'linux-pci@vger.kernel.org', 'linux-arm-kernel@lists.infradead.org', 'linux-kernel@vger.kernel.org']\n",
      "['dan.j.williams@intel.com', 'vkoul@kernel.org', 'dmaengine@vger.kernel.org', 'linux-kernel@vger.kernel.org', 'gustavo@embeddedor.com']\n",
      "['torvalds@linux-foundation.org', 'jarkko.sakkinen@linux.intel.com', 'linux-kernel@vger.kernel.org', 'linux-kselftest@vger.kernel.org']\n",
      "['ast@kernel.org', 'daniel@iogearbox.net', 'netdev@vger.kernel.org', 'bpf@vger.kernel.org', 'linux-kernel@vger.kernel.org', 'ethercflow@gmail.com']\n",
      "['marcel@holtmann.org', 'johan.hedberg@gmail.com', 'linux-bluetooth@vger.kernel.org', 'linux-kernel@vger.kernel.org', 'gustavoars@kernel.org']\n",
      "['gregkh@linuxfoundation.org', 'devel@driverdev.osuosl.org', 'linux-kernel@vger.kernel.org', 'gustavo@embeddedor.com']\n",
      "['oded.gabbay@gmail.com', 'linux-kernel@vger.kernel.org']\n",
      "['jpoimboe@redhat.com', 'jikos@kernel.org', 'mbenes@suse.cz', 'pmladek@suse.com', 'joe.lawrence@redhat.com', 'shuah@kernel.org', 'live-patching@vger.kernel.org', 'linux-kselftest@vger.kernel.org', 'linux-kernel@vger.kernel.org']\n",
      "['kvm@vger.kernel.org', 'pbonzini@redhat.com', 'sean.j.christopherson@intel.com', 'wanpengli@tencent.com', 'jmattson@google.com', 'like.xu@linux.intel.com', 'linux-kernel@vger.kernel.org']\n"
     ]
    }
   ],
   "source": []
  },
  {
   "cell_type": "code",
   "execution_count": 83,
   "metadata": {},
   "outputs": [
    {
     "ename": "ZeroDivisionError",
     "evalue": "division by zero",
     "output_type": "error",
     "traceback": [
      "\u001b[0;31m---------------------------------------------------------------------------\u001b[0m",
      "\u001b[0;31mZeroDivisionError\u001b[0m                         Traceback (most recent call last)",
      "\u001b[0;32m<ipython-input-83-e2c9c8fad51a>\u001b[0m in \u001b[0;36m<module>\u001b[0;34m\u001b[0m\n\u001b[1;32m      4\u001b[0m     \u001b[0msent_ids\u001b[0m \u001b[0;34m=\u001b[0m \u001b[0mset\u001b[0m\u001b[0;34m(\u001b[0m\u001b[0mget_sent_ids\u001b[0m\u001b[0;34m(\u001b[0m\u001b[0mpatch_url\u001b[0m\u001b[0;34m)\u001b[0m\u001b[0;34m)\u001b[0m\u001b[0;34m\u001b[0m\u001b[0;34m\u001b[0m\u001b[0m\n\u001b[1;32m      5\u001b[0m     \u001b[0mgm_ids\u001b[0m \u001b[0;34m=\u001b[0m \u001b[0mset\u001b[0m\u001b[0;34m(\u001b[0m\u001b[0mget_gm_ids\u001b[0m\u001b[0;34m(\u001b[0m\u001b[0mpatch_url\u001b[0m\u001b[0;34m)\u001b[0m\u001b[0;34m)\u001b[0m\u001b[0;34m\u001b[0m\u001b[0;34m\u001b[0m\u001b[0m\n\u001b[0;32m----> 6\u001b[0;31m     \u001b[0mpercents\u001b[0m\u001b[0;34m.\u001b[0m\u001b[0mappend\u001b[0m\u001b[0;34m(\u001b[0m\u001b[0mlen\u001b[0m\u001b[0;34m(\u001b[0m\u001b[0msent_ids\u001b[0m\u001b[0;34m.\u001b[0m\u001b[0mintersection\u001b[0m\u001b[0;34m(\u001b[0m\u001b[0mgm_ids\u001b[0m\u001b[0;34m)\u001b[0m\u001b[0;34m)\u001b[0m \u001b[0;34m/\u001b[0m \u001b[0mlen\u001b[0m\u001b[0;34m(\u001b[0m\u001b[0mgm_ids\u001b[0m\u001b[0;34m)\u001b[0m\u001b[0;34m)\u001b[0m\u001b[0;34m\u001b[0m\u001b[0;34m\u001b[0m\u001b[0m\n\u001b[0m\u001b[1;32m      7\u001b[0m     \u001b[0mprint\u001b[0m\u001b[0;34m(\u001b[0m\u001b[0;34mf\"{cnt} done\"\u001b[0m\u001b[0;34m)\u001b[0m\u001b[0;34m\u001b[0m\u001b[0;34m\u001b[0m\u001b[0m\n\u001b[1;32m      8\u001b[0m     \u001b[0mcnt\u001b[0m \u001b[0;34m+=\u001b[0m \u001b[0;36m1\u001b[0m\u001b[0;34m\u001b[0m\u001b[0;34m\u001b[0m\u001b[0m\n",
      "\u001b[0;31mZeroDivisionError\u001b[0m: division by zero"
     ]
    }
   ],
   "source": [
    "percents = []\n",
    "cnt = 0\n",
    "for patch_url in patches:\n",
    "    sent_ids = set(get_sent_ids(patch_url))\n",
    "    gm_ids = set(get_gm_ids(patch_url))\n",
    "    percents.append(len(sent_ids.intersection(gm_ids)) / len(gm_ids))\n",
    "    print(f\"{cnt} done\")\n",
    "    cnt += 1\n",
    "    "
   ]
  },
  {
   "cell_type": "code",
   "execution_count": 84,
   "metadata": {},
   "outputs": [
    {
     "data": {
      "text/plain": [
       "[]"
      ]
     },
     "execution_count": 84,
     "metadata": {},
     "output_type": "execute_result"
    }
   ],
   "source": [
    "get_gm_ids(patches[0])"
   ]
  }
 ],
 "metadata": {
  "kernelspec": {
   "display_name": "Python 3.8.2 64-bit",
   "language": "python",
   "name": "python38264bita3abdaa641384ce5a5896c3d70424d4f"
  },
  "language_info": {
   "codemirror_mode": {
    "name": "ipython",
    "version": 3
   },
   "file_extension": ".py",
   "mimetype": "text/x-python",
   "name": "python",
   "nbconvert_exporter": "python",
   "pygments_lexer": "ipython3",
   "version": "3.8.2"
  }
 },
 "nbformat": 4,
 "nbformat_minor": 4
}
